{
 "cells": [
  {
   "cell_type": "code",
   "execution_count": null,
   "id": "b81f49d8-55f7-4055-a8c3-bf0a3b59b806",
   "metadata": {},
   "outputs": [],
   "source": [
    "using BandedMatrices, LinearAlgebra, SparseArrays, IntervalArithmetic, Serialization, SpecialFunctions, Arblib"
   ]
  },
  {
   "cell_type": "code",
   "execution_count": null,
   "id": "3ff3009e-e680-4b7e-983d-16db22eb6752",
   "metadata": {},
   "outputs": [],
   "source": [
    "Base.:*(A::SparseMatrixCSC{Interval{Float64}, Int64},x::Vector{Interval{Float64}}) = Vector((A*sparse(x[:,:]))[:])\n",
    "Base.:*(A::SparseMatrixCSC{Interval{Float64}, Int64}, B::Adjoint) = A*Matrix(B)\n",
    "Arb2Int(x) = interval(Float64(getinterval(x)[1], RoundDown), Float64(getinterval(x)[2], RoundUp))\n",
    "Int2Arb(x) = Arb((inf(x), sup(x)))\n",
    "SpecialFunctions.gamma(x::Interval{Float64}) = Arb2Int(gamma(Int2Arb(x)))"
   ]
  },
  {
   "cell_type": "code",
   "execution_count": null,
   "id": "cf19cd46-7952-4082-b50c-c2a0f9318485",
   "metadata": {},
   "outputs": [],
   "source": [
    "α = -interval(Float64, 1//2)\n",
    "β̲ = -interval(Float64, 160//1000)\n",
    "β̄ = -interval(Float64, 159//1000)\n",
    "B = interval(Float64, 124//100)\n",
    "\n",
    "K = 5\n",
    "βK = (β̲ + β̄)/interval(2) .+cos.(interval.(Float64, collect(K:-1:0).//(K))*interval(π))*(β̄ - β̲)/interval(2)\n",
    "θK = interval.(Float64, collect(K:-1:0).//(K))*interval(π)\n",
    "xK = cos.(θK)\n",
    "indK = interval.(collect(0:K))\n",
    "# MK maps a K+1 Chebyshev coefficients to evaluation at K+1 Chebyshev nodes\n",
    "MK = cos.(θK*indK')\n",
    "MK[:,2:end] *=interval(2)\n",
    "# MKinv maps the evalation at Chebyshev at K+1 nodes to K+1 Chebyshev coefficients\n",
    "MKinv = (cos.(θK*indK')/interval(K))'\n",
    "MKinv[:,1]/=interval(2)\n",
    "MKinv[:,end]/=interval(2)\n",
    "MKinv[end,:]/=interval(2);\n",
    "\n",
    "βK₁ = (β̲ + β̄)/interval(2) .+cos.(interval.(Float64, collect(K+1:-1:0).//(K+1))*interval(π))*(β̄ - β̲)/interval(2)\n",
    "θK₁ = interval.(Float64, collect(K+1:-1:0).//(K+1))*interval(π)\n",
    "xK₁ = cos.(θK₁)\n",
    "indK₁ = interval.(collect(0:K+1))\n",
    "# MK maps a K+2 Chebyshev coefficients to evaluation at K+2 Chebyshev nodes\n",
    "MK₁ = cos.(θK₁*indK₁')\n",
    "MK₁[:,2:end] *=interval(2)\n",
    "# MKinv maps the evalation at Chebyshev at K+2 nodes to K+2 Chebyshev coefficients\n",
    "MK₁inv = (cos.(θK₁*indK₁')/interval(K+1))'\n",
    "MK₁inv[:,1]/=interval(2)\n",
    "MK₁inv[:,end]/=interval(2)\n",
    "MK₁inv[end,:]/=interval(2);"
   ]
  },
  {
   "cell_type": "code",
   "execution_count": null,
   "id": "c2c3e0ca-4f13-4603-9f8b-d776133900fe",
   "metadata": {},
   "outputs": [],
   "source": [
    "function D(N)\n",
    "    # implements ∂ₓ in Fourier\n",
    "    v = interval.([ ((n+1 ) % 2) * (n÷2) for n=1:2*N])\n",
    "    return dropzeros(sparse(BandedMatrix(-1 => v, 1 =>-v)))\n",
    "end\n",
    "\n",
    "function D2(N)\n",
    "    # implements ∂ₓₓ in Fourier\n",
    "    v = interval.([-(n÷2)^2 for n=1:2*N+1])\n",
    "    return dropzeros(sparse(BandedMatrix( 0 => vcat(v, zeros(Interval{Float64}, 2)))[1:2*N+1,1:2*N+1]))\n",
    "end\n",
    "\n",
    "function id(N)\n",
    "    v = ones(Interval{Float64}, 2*N+1)\n",
    "    return dropzeros(sparse(BandedMatrix( 0 => v)))\n",
    "end\n",
    "\n",
    "function id2(N)\n",
    "    v = ones(Interval{Float64}, 2*N+1)\n",
    "    return dropzeros(sparse(BandedMatrix( 0 => vcat(v, zeros(Interval{Float64}, 2)))[:,1:2*N+1]))\n",
    "end\n",
    "\n",
    "function idZ(N)\n",
    "    v = ones(Interval{Float64}, N+1)\n",
    "    return dropzeros(sparse(BandedMatrix( 0 => v)))\n",
    "end\n",
    "\n",
    "function idZ2(N)\n",
    "    v = ones(Interval{Float64}, N+2)\n",
    "    return dropzeros(sparse(BandedMatrix( 0 => v)))[:,1:N+1]\n",
    "end\n",
    "\n",
    "function C(N)\n",
    "    # implements u ↦ cosx u in Fourier\n",
    "    v = vcat([interval(0.0)], ones(Interval{Float64}, 2*N)/interval(2))\n",
    "    A = dropzeros(sparse(BandedMatrix( -2 => v, 2 => v[1:end-2])[:,1:2*N+1]))\n",
    "    A[1,3] = interval(0.5)\n",
    "    A[3,1] = interval(1.0)\n",
    "    return A\n",
    "end\n",
    "\n",
    "function S(N)\n",
    "    # implements u ↦ sinx u in Fourier\n",
    "    v = vcat([interval(0.0)],interval.([ ((n+1 ) % 2) for n=1:2*N]))/interval(2)\n",
    "    A = dropzeros(sparse(BandedMatrix( -1 => v[1:end], -3 =>-v[2:end], 1 => v, 3=>-v[2:end])[:,1:2*N+1]))\n",
    "    A[1,2] = interval(0.5)\n",
    "    A[2,1] = interval(1.0)\n",
    "    return A\n",
    "end\n",
    "\n",
    "function L(N)\n",
    "    u = interval.(2:2:2*N+2).*sqrt.(interval(2:2:2*N+2).*interval(1:2:2*N+1))\n",
    "    v = interval.(0:2:2*N+2).*(interval(2)*interval(0:2:2*N+2).+interval(1))\n",
    "    w = interval.(0:2:2*N).*sqrt.(interval.(1:2:2*N+1).*interval.(2:2:2*N+2))\n",
    "    return -dropzeros(sparse(BandedMatrix(1 => u, 0 => v, -1=> w)[:,1:N+1]))\n",
    "end\n",
    "\n",
    "function Z2(N)\n",
    "    u = sqrt.(interval(2:2:2*N+2).*interval(1:2:2*N+1))\n",
    "    v = interval(2)*interval(0:2:2*N+2).+interval(1)\n",
    "    w = sqrt.(interval.(1:2:2*N+1).*interval.(2:2:2*N+2))\n",
    "    return dropzeros(sparse(Matrix(BandedMatrix(1 => u, 0 => v, -1=> w)[:,1:N+1])))/interval(2)\n",
    "end\n",
    "\n",
    "function ZD(N)\n",
    "    u = sqrt.(interval(2:2:2*N+2).*interval(1:2:2*N+1))\n",
    "    v = interval.(0:2:2*N+2)\n",
    "    return dropzeros(sparse(BandedMatrix(1 => u, 0 => v)[:,1:N+1]))\n",
    "end"
   ]
  },
  {
   "cell_type": "code",
   "execution_count": null,
   "id": "7ca2f0b0-b967-4218-bc4f-af8057af0059",
   "metadata": {},
   "outputs": [],
   "source": [
    "N = 20000\n",
    "M = 200;"
   ]
  },
  {
   "cell_type": "code",
   "execution_count": null,
   "id": "f51d5dcd-64b8-40d8-bfd6-eb488d43a360",
   "metadata": {},
   "outputs": [],
   "source": [
    "# preconditioning matrix\n",
    "A = kron(sparse(I(2*M+3)), sparse(Diagonal(1 ./(1:N+2).^1.0)));"
   ]
  },
  {
   "cell_type": "code",
   "execution_count": null,
   "id": "5ef00841-a9ad-4ed9-857c-d1ce604c282b",
   "metadata": {},
   "outputs": [],
   "source": [
    "𝔄 = kron(id2(M), L(N)/interval(16))\n",
    "𝔄 += kron(id2(M), interval(Float64, 3//16)*ZD(N))\n",
    "𝔄 += kron((interval(3)*id2(M)+interval(3)*C(M)+B*S(M))*D(M), Z2(N)/(interval(4)*B));\n",
    "𝔄 += kron((id2(M)-C(M))*D2(M), idZ2(N)/interval(2))\n",
    "𝔄 -= kron(S(M)*D(M), ZD(N)/interval(4))\n",
    "𝔄 = [kron(id2(M),(idZ2(N)-Z2(N))/interval(8))[:,1] 𝔄[:,2:end]];"
   ]
  },
  {
   "cell_type": "code",
   "execution_count": null,
   "id": "551fd42e-4a34-4e3c-852e-6d5850db0808",
   "metadata": {},
   "outputs": [],
   "source": [
    "𝔅 = kron(id2(M), ZD(N)/interval(2))\n",
    "𝔅 = [kron(id2(M),idZ2(N)/interval(2))[:,1] 𝔅[:,2:end]];"
   ]
  },
  {
   "cell_type": "code",
   "execution_count": null,
   "id": "e013fbbf-4c54-471b-9ea3-b052bbe10a06",
   "metadata": {},
   "outputs": [],
   "source": [
    "Q = -Vector(kron(interval(2)*id2(M)+C(M), Z2(N))[:,1]/interval(8))\n",
    "Q += Vector(kron(S(M), Z2(N))[:,1]*interval(Float64, 3//8)/B);\n",
    "e₁ = zeros(Interval{Float64}, size(Q))\n",
    "e₁[1] = interval(1) \n",
    "Q += e₁/interval(8);\n",
    "QK = Q' .+ βK*e₁'/interval(2)\n",
    "QK₁ = Q' .+ βK₁*e₁'/interval(2);"
   ]
  },
  {
   "cell_type": "code",
   "execution_count": null,
   "id": "a255f751-f005-4255-a4bb-b5ad8df4a8c9",
   "metadata": {},
   "outputs": [],
   "source": [
    "ūK = zeros(Float64,(K+1,size(𝔄)[2]));"
   ]
  },
  {
   "cell_type": "code",
   "execution_count": null,
   "id": "02d43f8f-63d8-46f8-85bf-6213f2a7d8ab",
   "metadata": {},
   "outputs": [],
   "source": [
    "for i=1:K+1\n",
    "# for i=8:8\n",
    "    println(i)\n",
    "    β = βK[i]\n",
    "    ūK[i,:] = (A*(mid.(𝔄)+mid(β)*mid.(𝔅)))[2:end,:] \\ (A*collect(mid.(QK[i,:])))[2:end];\n",
    "end"
   ]
  },
  {
   "cell_type": "code",
   "execution_count": null,
   "id": "516e27ac-8c71-4445-8868-c6166e95f5be",
   "metadata": {},
   "outputs": [],
   "source": [
    "# serialize(\"uK2bis\", mid.(ūK))\n",
    "# ūK = deserialize(\"uK2bis\")\n",
    "ūK = interval.(ūK)"
   ]
  },
  {
   "cell_type": "code",
   "execution_count": null,
   "id": "2a447d65-5b1b-486f-b9db-522cd139adf9",
   "metadata": {},
   "outputs": [],
   "source": [
    "ū_coeffs = zeros(Interval{Float64}, size(ūK))\n",
    "# currently faster than matmul\n",
    "Threads.@threads for i=1:size(ūK)[2]\n",
    "    ū_coeffs[:,i] = MKinv*ūK[:,i]\n",
    "end\n",
    "ū_coeffs = vcat(ū_coeffs, zeros(Interval{Float64},(1, size(𝔄)[2])))\n",
    "ūK₁ = zeros(Interval{Float64}, size(ū_coeffs))\n",
    "Threads.@threads for i=1:size(ū_coeffs)[2]\n",
    "    ūK₁[:,i] = MK₁*ū_coeffs[:,i]\n",
    "end"
   ]
  },
  {
   "cell_type": "code",
   "execution_count": null,
   "id": "8ddd260d-b8b8-4456-90e5-38b8a8e000e8",
   "metadata": {},
   "outputs": [],
   "source": [
    "ϵK₁ = Matrix(reduce(hcat,[((𝔄*ūK₁[i,:]) + βK₁[i]*(𝔅*ūK₁[i,:])) - QK₁[i,:] for i=1:K+2])');"
   ]
  },
  {
   "cell_type": "code",
   "execution_count": null,
   "id": "74633849-d265-423d-9837-405e04e23189",
   "metadata": {},
   "outputs": [],
   "source": [
    "# ϵK₁ = Matrix(((𝔄*ūK₁')' + βK₁.*(𝔅*ūK₁')') .- Q);\n",
    "# ĪK₁ = -ϵK₁[:,1]\n",
    "λ̄K₁ = -ϵK₁[:,1]\n",
    "ϵK₁[:,1] .= interval(0);"
   ]
  },
  {
   "cell_type": "code",
   "execution_count": null,
   "id": "b56f81bc-e840-4588-8189-6aa891c120b0",
   "metadata": {},
   "outputs": [],
   "source": [
    "ϵ_coeffs = zeros(Interval{Float64}, size(ϵK₁))\n",
    "Threads.@threads for i = 1:size(ϵK₁)[2]\n",
    "    # println(i)\n",
    "    ϵ_coeffs[:,i] = MK₁inv*ϵK₁[:,i]\n",
    "end\n",
    "ϵ_coeffs[2:end,:] *= interval(2);"
   ]
  },
  {
   "cell_type": "code",
   "execution_count": null,
   "id": "7da1ebce-5563-44be-882d-2bf27194af00",
   "metadata": {},
   "outputs": [],
   "source": [
    "ϵ_sups = sum(ϵ_coeffs, dims = 1)\n",
    "ϵ_sups = reshape(ϵ_sups, (N+2, 2*M+3));"
   ]
  },
  {
   "cell_type": "code",
   "execution_count": null,
   "id": "5031a9b1-315e-4e4d-b7fe-0e5c99463d6a",
   "metadata": {},
   "outputs": [],
   "source": [
    "βs = mince(interval(β̲, β̄), 100000);\n",
    "c = maximum(sqrt.(gamma.(interval(1) .+ interval(8)*βs .- α))./gamma.(interval(1) .+ interval(4)*βs))*interval(π)^interval(1//4)"
   ]
  },
  {
   "cell_type": "code",
   "execution_count": null,
   "id": "6464c108-93cf-4f5a-8958-e28048b7f409",
   "metadata": {},
   "outputs": [],
   "source": [
    "δ = sum([sqrt(sum(ϵ_sups[:,i].^2)) for i=1:2*M+3])*c"
   ]
  },
  {
   "cell_type": "code",
   "execution_count": null,
   "id": "efb03706-0591-480f-9a6d-b025ec356e7e",
   "metadata": {},
   "outputs": [],
   "source": [
    "λ̄_coeffs = MK₁inv*λ̄K₁;\n",
    "λ̄_coeffs[2:end] *= interval(2);"
   ]
  },
  {
   "cell_type": "code",
   "execution_count": null,
   "id": "e89239a5-69a4-47d0-82bb-4b289491242b",
   "metadata": {},
   "outputs": [],
   "source": [
    "β₊ = -interval(159437//1000000)\n",
    "β₋ = -interval(159449//1000000)\n",
    "x₋ = mince(interval(acos((β₋-(β̄+β̲)/interval(2))/(β̄-β̲)*interval(2)), π),100000)\n",
    "x₊ = mince(interval(0, acos((β₊-(β̄+β̲)/interval(2))/(β̄-β̲)*interval(2))),100000)\n",
    "\n",
    "if all(sup.(sum(λ̄_coeffs.*cos.(interval(0:K+1)*x₋'), dims = 1).+δ).<0) && all(inf.(sum(λ̄_coeffs.*cos.(interval(0:K+1)*x₊'), dims = 1).-δ).>0)\n",
    "    println(\"sign of Lyapunov exponents checked\")\n",
    "else\n",
    "    println(\"sign of Lyapunov exponents NOT checked\")\n",
    "end\n"
   ]
  },
  {
   "cell_type": "code",
   "execution_count": null,
   "id": "bb9ce0a3-26fa-4d07-b356-9d2357658305",
   "metadata": {},
   "outputs": [],
   "source": [
    "β = interval.(collect(0:100)/100)*(β̄-β̲).+β̲;"
   ]
  },
  {
   "cell_type": "code",
   "execution_count": null,
   "id": "3bad941f-5255-4100-b742-d94c3b110e08",
   "metadata": {},
   "outputs": [],
   "source": [
    "using Plots\n",
    "plot(mid.(β), mid.(λ̄.(β)))\n",
    "scatter!(mid.(βK₁), mid.(λ̄K₁))"
   ]
  }
 ],
 "metadata": {
  "kernelspec": {
   "display_name": "Julia 1.11.4",
   "language": "julia",
   "name": "julia-1.11"
  },
  "language_info": {
   "file_extension": ".jl",
   "mimetype": "application/julia",
   "name": "julia",
   "version": "1.11.4"
  }
 },
 "nbformat": 4,
 "nbformat_minor": 5
}
