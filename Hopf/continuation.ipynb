version https://git-lfs.github.com/spec/v1
oid sha256:38f9cbe92d6ad012d7c6c751061987ffb56cd2c4a5bfef8d4bd9b99ebf7f623d
size 19854
