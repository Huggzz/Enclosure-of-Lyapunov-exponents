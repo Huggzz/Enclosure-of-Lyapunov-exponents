version https://git-lfs.github.com/spec/v1
oid sha256:f2b7cbfa56e11492f6d42a739a3c4be6b28c8672d44664a6537cf84534be2ab0
size 15563
