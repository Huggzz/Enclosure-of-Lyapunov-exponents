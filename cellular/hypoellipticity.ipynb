{
 "cells": [
  {
   "cell_type": "code",
   "execution_count": 1,
   "id": "1a9c1e58-ad1c-4c19-8fe5-f0606a561db0",
   "metadata": {},
   "outputs": [],
   "source": [
    "using IntervalArithmetic"
   ]
  },
  {
   "cell_type": "markdown",
   "id": "851da029-c64c-4337-9cd3-ad991fb184cc",
   "metadata": {},
   "source": [
    "We deal with the hypoellipticity of the diffusion\n",
    "\n",
    "$$\\mathrm{d}X_t = V_0(X_t)\\mathrm{d}t + V_1 \\mathrm{d}B^1_t+V_2\\mathrm{d}B^2_t$$\n",
    "\n",
    "where\n",
    "\n",
    "$$V_0(X_t) = \\begin{pmatrix}\\sin x(\\cos(x)/2-\\cos y)\\\\ \\sin y (\\cos(x) + \\cos(y)/2)\\\\ -2\\sin x \\sin y + (\\cos(2y)/2 + 2\\cos x\\cos y -\\cos(2x)/2)\\end{pmatrix} \\qquad V_1 = \\begin{pmatrix}\\sqrt{2}\\\\0\\\\0\\end{pmatrix}\\qquad V_2 = \\begin{pmatrix} 0 \\\\ \\sqrt{2} \\\\0\\end{pmatrix}. $$\n",
    "\n",
    "Define by recursion\n",
    "\n",
    "$$\\mathcal{V}_0 = \\{V_1, V_2\\}, \\quad \\mathcal{V}_{k+1} = \\mathcal{V}_k \\cup \\{[U, V_j] : U\\in \\mathcal{V}_k \\:\\& \\:j\\geq 0\\}$$\n",
    "\n",
    "and $\\mathcal{V}_k(x, y, \\theta) = \\mathrm{Span}\\{V(x, y , \\theta) : V \\in \\mathcal{V}_k\\}$. \n",
    "\n",
    "Since $V_1$ and $V_1$ are constant, we get that\n",
    "\n",
    "$$\\mathcal{V}_1 = \\{0, V_1, V_2, U_1, U_2\\}$$\n",
    "\n",
    "where\n",
    "\n",
    "$$U_1(x, y, \\theta) = [V_1, V_0](x,y,\\theta) = DV_0(x, y, \\theta) V_1 = \\sqrt{2} \\begin{pmatrix}\\cos(2x)/2 - \\cos x \\cos y \\\\ - \\sin x \\sin y \\\\ - 2\\cos x \\sin y + 2\\sin\\theta\\sin x(\\cos x - \\cos y)\\end{pmatrix}$$\n",
    "\n",
    "and\n",
    "\n",
    "$$U_2(x, y, \\theta) = [V_1, V_0](x,y,\\theta) = DV_0(x , y \\theta) V_2 = \\sqrt{2} \\begin{pmatrix}\\sin x \\sin y \\\\ \\cos(2y)/2 + \\cos x \\cos y \\\\ - 2\\cos y \\sin x - 2\\sin\\theta\\sin y(\\cos x + \\cos y)\\end{pmatrix}$$\n",
    "\n",
    "However, this is not sufficient to check the parabolic \n",
    "Hörmander condition, i.e. it does not hold that for all $(x,y, \\theta) \\in \\mathbb{T}^3$, $\\mathcal{V}_1(x,y,\\theta) = \\mathbb{R}^3$. We thus resort to compute some elements of $\\mathcal{V}_2$.\n",
    "\n",
    "We compute $W_1, W_2 \\in \\mathcal{V}_2$ where \n",
    "\n",
    "$$W_1(x, y, \\theta) = [U_1, V_1](x,y,\\theta) = -DU_1(x, y, \\theta) V_1 = -2 \\begin{pmatrix}\\sin x \\cos y - 2\\sin x\\\\ - \\cos x \\sin y \\\\  2\\sin x \\sin y + 2\\sin\\theta(\\cos 2x - \\cos x\\cos y)\\end{pmatrix}$$\n",
    "\n",
    "and\n",
    "\n",
    "$$W_2(x, y, \\theta) = [U_1, V_2](x,y,\\theta) = -DU_1(x, y, \\theta) V_2 = -2 \\begin{pmatrix}\\cos x \\sin y \\\\ - \\cos y \\sin x \\\\ - 2\\cos x \\cos y + 2\\sin\\theta\\sin x\\sin y\\end{pmatrix}$$\n",
    "\n",
    "Since $V_1$ and $V_2$ span $\\mathrm{Span}\\{e_1, e_2\\}$, we simply check that for all $(x,y,\\theta) \\in \\mathbb{T}^3$ , $(U^3_1, U^3_2, W^3_1, W^3_2)(x,y,\\theta) \\neq (0,0,0,0)$.\n"
   ]
  },
  {
   "cell_type": "code",
   "execution_count": 2,
   "id": "128dfd52-d77b-4131-a00c-57c05a84300f",
   "metadata": {},
   "outputs": [
    {
     "data": {
      "text/plain": [
       "is_problematic (generic function with 1 method)"
      ]
     },
     "execution_count": 2,
     "metadata": {},
     "output_type": "execute_result"
    }
   ],
   "source": [
    "function U(x,y,θ)\n",
    "    cx = cos(x)\n",
    "    cy = cos(y)\n",
    "    # cθ = cos(θ)\n",
    "    c2x = cos(interval(2)*x)\n",
    "    # c2y = cos(interval(2)*y)\n",
    "    sx = sin(x)\n",
    "    sy = sin(y)\n",
    "    sθ = sin(θ)\n",
    "    return [sqrt(interval(8))*(-cx*sy+(cx-cy)*sx*sθ),\n",
    "        -sqrt(interval(8))*(cy*sx+(cx+cy)*sy*sθ),\n",
    "        -interval(4)*(sx*sy+(c2x-cx*cy)*sθ),\n",
    "        -interval(4)*(-cx*cy+(sx*sy)*sθ)]\n",
    "end\n",
    "\n",
    "function U(z)\n",
    "    return U(z[1],z[2],z[3])\n",
    "end\n",
    "\n",
    "function is_problematic(z)\n",
    "    if all(in_interval.(0, z))\n",
    "        return true\n",
    "    else \n",
    "        return false\n",
    "    end\n",
    "end"
   ]
  },
  {
   "cell_type": "code",
   "execution_count": 3,
   "id": "2be25676-ad4c-4325-b134-00c39b203456",
   "metadata": {},
   "outputs": [],
   "source": [
    "X = mince(interval(0,π)*interval(2),200)\n",
    "Y = mince(interval(0,π)*interval(2),200)\n",
    "Θ = mince(interval(0,π)*interval(2),200);"
   ]
  },
  {
   "cell_type": "code",
   "execution_count": 4,
   "id": "78d34aa6-323e-453b-8169-e0ceb04e0e35",
   "metadata": {},
   "outputs": [],
   "source": [
    "XYΘ = vec([(x,y,θ) for x in X, y in Y, θ in Θ]);"
   ]
  },
  {
   "cell_type": "code",
   "execution_count": 5,
   "id": "b23809f3-dc53-4f4e-98cb-5c7687cbb9a7",
   "metadata": {},
   "outputs": [],
   "source": [
    "U_vals = U.(XYΘ);"
   ]
  },
  {
   "cell_type": "code",
   "execution_count": 6,
   "id": "ef488a78-44cb-48cd-b539-7e1b32a438d2",
   "metadata": {},
   "outputs": [
    {
     "name": "stdout",
     "output_type": "stream",
     "text": [
      "Hörmander condition checked\n"
     ]
    }
   ],
   "source": [
    "if isempty(XYΘ[is_problematic.(U_vals)])\n",
    "    println(\"Hörmander condition checked\")\n",
    "else\n",
    "    println(\"Hörmander condition not checked\")\n",
    "end"
   ]
  },
  {
   "cell_type": "code",
   "execution_count": null,
   "id": "4b80d65f-c395-4c89-9340-c9b688a19573",
   "metadata": {},
   "outputs": [],
   "source": []
  }
 ],
 "metadata": {
  "kernelspec": {
   "display_name": "Julia 1.10.4",
   "language": "julia",
   "name": "julia-1.10"
  },
  "language_info": {
   "file_extension": ".jl",
   "mimetype": "application/julia",
   "name": "julia",
   "version": "1.10.4"
  }
 },
 "nbformat": 4,
 "nbformat_minor": 5
}
