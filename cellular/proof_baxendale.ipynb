{
 "cells": [
  {
   "cell_type": "code",
   "execution_count": 1,
   "id": "d40a9414-4bf0-4007-ace4-e159ef698b5f",
   "metadata": {},
   "outputs": [],
   "source": [
    "using BandedMatrices, LinearAlgebra, SparseArrays, IntervalArithmetic, Plots, Base.Threads, Serialization"
   ]
  },
  {
   "cell_type": "code",
   "execution_count": 2,
   "id": "dc32fa62-8be2-4488-974a-26f312de3288",
   "metadata": {},
   "outputs": [],
   "source": [
    "Base.:*(A::SparseMatrixCSC{Interval{Float64}, Int64},x::Vector{Interval{Float64}})=Vector((A*sparse(x[:,:]))[:])"
   ]
  },
  {
   "cell_type": "code",
   "execution_count": 3,
   "id": "d1dbf4f4-d8a4-458d-a0c8-80c103d178f3",
   "metadata": {},
   "outputs": [
    {
     "data": {
      "text/plain": [
       "S2 (generic function with 1 method)"
      ]
     },
     "execution_count": 3,
     "metadata": {},
     "output_type": "execute_result"
    }
   ],
   "source": [
    "function D(N)\n",
    "    # implements ∂ₓ in Fourier\n",
    "    v = interval.([ ((n+1 ) % 2) * (n÷2) for n=1:2*N])\n",
    "    return dropzeros(sparse(BandedMatrix(-1 => v, 1 =>-v)))\n",
    "end\n",
    "\n",
    "function D2(N)\n",
    "    # implements ∂ₓₓ in Fourier\n",
    "    v = interval.([-(n÷2)^2 for n=1:2*N+1])\n",
    "    return dropzeros(sparse(BandedMatrix( 0 => vcat(v, zeros(Interval{Float64}, 4)))[:,1:2*N+1]))\n",
    "end\n",
    "\n",
    "function D2θ(N)\n",
    "    # implements ∂ₓₓ in Fourier\n",
    "    v = interval.([-(n÷2)^2 for n=1:2*N+1])\n",
    "    return dropzeros(sparse(BandedMatrix( 0 => vcat(v, zeros(Interval{Float64}, 4)))[1:2*N+1,1:2*N+1]))\n",
    "end\n",
    "\n",
    "function id(N)\n",
    "    v = ones(Interval{Float64}, 2*N+1)\n",
    "    return dropzeros(sparse(BandedMatrix( 0 => v)))\n",
    "end\n",
    "\n",
    "function id2(N)\n",
    "    v = ones(Interval{Float64}, 2*N+1)\n",
    "    return dropzeros(sparse(BandedMatrix( 0 => vcat(v, zeros(Interval{Float64}, 4)))[:,1:2*N+1]))\n",
    "end\n",
    "\n",
    "function idθ(N)\n",
    "    v = ones(Interval{Float64}, 2*N+1)\n",
    "    return dropzeros(sparse(BandedMatrix( 0 => vcat(v, zeros(Interval{Float64}, 2)))[:,1:2*N+1]))\n",
    "end\n",
    "\n",
    "function C(N)\n",
    "    # implements the u ↦ cosx u in Fourier\n",
    "    v = vcat([interval(0.0)], ones(Interval{Float64}, 2*N+2)/interval(2))\n",
    "    A = dropzeros(sparse(BandedMatrix( -2 => v, 2 => v[1:end-2])[:,1:2*N+1]))\n",
    "    A[1,3] = interval(0.5)\n",
    "    A[3,1] = interval(1.0)\n",
    "    return A\n",
    "end\n",
    "\n",
    "function S(N)\n",
    "    # implements the u ↦ sinx u in Fourier\n",
    "    v = vcat([interval(0.0)],interval.([ ((n+1 ) % 2) for n=1:2*N+2]))/interval(2)\n",
    "    A = dropzeros(sparse(BandedMatrix( -1 => v, -3 =>-v[2:end], 1 => v, 3=>-v[2:end])[:,1:2*N+1]))\n",
    "    A[1,2] = interval(0.5)\n",
    "    A[2,1] = interval(1.0)\n",
    "    return A\n",
    "end\n",
    "\n",
    "function C2(N)\n",
    "    # implements the u ↦ cos2x u in Fourier\n",
    "    v = vcat([interval(0.0)], ones(Interval{Float64}, 2*N)/interval(2))\n",
    "    A = dropzeros(sparse(BandedMatrix( -4 => v, 4 => v[2:end-1])[:,1:2*N+1]))\n",
    "    # A[1,3] = interval(0.5)\n",
    "    A[5,1] = interval(1.0)\n",
    "    A[3,3] = interval(0.5)\n",
    "    A[2,2] = -interval(0.5)\n",
    "    return A\n",
    "end\n",
    "\n",
    "function S2(N)\n",
    "    # implements the u ↦ sin2x u in Fourier\n",
    "    v = vcat([interval(0.0)],interval.([ ((n+1 ) % 2) for n=1:2*N]))/interval(2)\n",
    "    A = dropzeros(sparse(BandedMatrix( -3 => v, -5 =>-v[2:end], 3 => v, 5=>-v[2:end])[:,1:2*N+1]))\n",
    "    A[1,4] = interval(0.5)\n",
    "    A[4,1] = interval(1.0)\n",
    "    A[2,3] = interval(0.5)\n",
    "    A[3,2] = interval(0.5)\n",
    "    return A\n",
    "end"
   ]
  },
  {
   "cell_type": "code",
   "execution_count": 4,
   "id": "a1fd8a19-d5a7-4d22-93be-21041d5da054",
   "metadata": {},
   "outputs": [],
   "source": [
    "N = 25\n",
    "M = 500;"
   ]
  },
  {
   "cell_type": "code",
   "execution_count": 5,
   "id": "b5ff3bd2-085b-4636-b08b-eeb246db0ef9",
   "metadata": {},
   "outputs": [],
   "source": [
    "Dx = ((kron(S2(N),id2(N),id2(M))/interval(4)-kron(S(N),C(N),id2(M)))*kron(D(N),id(N),id(M)));"
   ]
  },
  {
   "cell_type": "code",
   "execution_count": 6,
   "id": "ddb5b2ec-0e71-44cb-bb71-3bc6102d634f",
   "metadata": {},
   "outputs": [],
   "source": [
    "Dy = ((kron(id2(N),S2(N),id2(M))/interval(4)+kron(C(N),S(N),id2(M)))*kron(id(N),D(N),id(M)));"
   ]
  },
  {
   "cell_type": "code",
   "execution_count": 7,
   "id": "d3450b3e-fc42-4d9d-9c28-5ee349058128",
   "metadata": {},
   "outputs": [],
   "source": [
    "Dθ = (((interval(2)*(-kron(S(N),S(N),id2(M))+kron(kron(id2(N),C2(N))/interval(4)+kron(C(N),C(N))-kron(C2(N),id2(N))/interval(4), S(M)))+kron(id2(N), id2(N), S2(M)))*kron(id(N),id(N),D(M))));"
   ]
  },
  {
   "cell_type": "code",
   "execution_count": 8,
   "id": "cf59e5e9-6484-4572-8c75-fd17cf2bd5d8",
   "metadata": {},
   "outputs": [],
   "source": [
    "Δ = (kron(D2(N),id2(N),id2(M))+kron(id2(N),D2(N),id2(M)));"
   ]
  },
  {
   "cell_type": "code",
   "execution_count": 9,
   "id": "32190901-1bf3-4b48-93fe-eee26691ba7d",
   "metadata": {},
   "outputs": [],
   "source": [
    "Δθ = (kron(id2(N), id2(N), id2(M)-C2(M))*kron(id(N), id(N), D2θ(M)));"
   ]
  },
  {
   "cell_type": "code",
   "execution_count": 10,
   "id": "f5dab2e7-7e90-4275-8fc6-dcce3f5414fd",
   "metadata": {},
   "outputs": [],
   "source": [
    "Q = Vector((kron(kron(C2(N),id2(N))+kron(id2(N),C2(N)),id2(M))/interval(4)+kron(kron(C2(N), id2(N))/interval(4)-kron(C(N),C(N))-kron(id2(N),C2(N))/interval(4),C(M))-kron(id2(N),id2(N),id2(M)+C2(M))/interval(2))[:,1]);"
   ]
  },
  {
   "cell_type": "code",
   "execution_count": 11,
   "id": "4ee9a839-3321-4a37-9501-ade0f1efffe1",
   "metadata": {},
   "outputs": [
    {
     "data": {
      "text/plain": [
       "3040125×2603601 SparseMatrixCSC{Interval{Float64}, Int64} with 77881299 stored entries:\n",
       "⎡⣿⣿⢳⣽⣦⠀⠀⠀⠀⠀⠀⠀⠀⠀⠀⠀⠀⠀⠀⠀⠀⠀⠀⠀⠀⠀⠀⠀⠀⠀⠀⠀⠀⠀⠀⠀⠀⠀⠀⠀⎤\n",
       "⎢⣙⣾⣿⣟⣾⣷⣄⠀⠀⠀⠀⠀⠀⠀⠀⠀⠀⠀⠀⠀⠀⠀⠀⠀⠀⠀⠀⠀⠀⠀⠀⠀⠀⠀⠀⠀⠀⠀⠀⠀⎥\n",
       "⎢⠈⠻⣽⣿⡿⣽⣿⡷⣄⠀⠀⠀⠀⠀⠀⠀⠀⠀⠀⠀⠀⠀⠀⠀⠀⠀⠀⠀⠀⠀⠀⠀⠀⠀⠀⠀⠀⠀⠀⠀⎥\n",
       "⎢⠀⠀⠘⢧⣿⣟⣷⣿⢿⣳⣄⠀⠀⠀⠀⠀⠀⠀⠀⠀⠀⠀⠀⠀⠀⠀⠀⠀⠀⠀⠀⠀⠀⠀⠀⠀⠀⠀⠀⠀⎥\n",
       "⎢⠀⠀⠀⠀⠙⢾⡿⣿⣾⡿⣏⣧⡀⠀⠀⠀⠀⠀⠀⠀⠀⠀⠀⠀⠀⠀⠀⠀⠀⠀⠀⠀⠀⠀⠀⠀⠀⠀⠀⠀⎥\n",
       "⎢⠀⠀⠀⠀⠀⠀⠙⢿⣻⣽⣿⣿⣽⣦⡀⠀⠀⠀⠀⠀⠀⠀⠀⠀⠀⠀⠀⠀⠀⠀⠀⠀⠀⠀⠀⠀⠀⠀⠀⠀⎥\n",
       "⎢⠀⠀⠀⠀⠀⠀⠀⠀⠹⣟⣷⣿⢿⣳⣿⢦⡀⠀⠀⠀⠀⠀⠀⠀⠀⠀⠀⠀⠀⠀⠀⠀⠀⠀⠀⠀⠀⠀⠀⠀⎥\n",
       "⎢⠀⠀⠀⠀⠀⠀⠀⠀⠀⠈⠻⣽⣾⡿⣿⣿⡿⣆⠀⠀⠀⠀⠀⠀⠀⠀⠀⠀⠀⠀⠀⠀⠀⠀⠀⠀⠀⠀⠀⠀⎥\n",
       "⎢⠀⠀⠀⠀⠀⠀⠀⠀⠀⠀⠀⠈⠻⣿⣿⣻⣽⣿⣳⣄⠀⠀⠀⠀⠀⠀⠀⠀⠀⠀⠀⠀⠀⠀⠀⠀⠀⠀⠀⠀⎥\n",
       "⎢⠀⠀⠀⠀⠀⠀⠀⠀⠀⠀⠀⠀⠀⠈⢳⡿⢿⣷⣿⢿⣷⣄⠀⠀⠀⠀⠀⠀⠀⠀⠀⠀⠀⠀⠀⠀⠀⠀⠀⠀⎥\n",
       "⎢⠀⠀⠀⠀⠀⠀⠀⠀⠀⠀⠀⠀⠀⠀⠀⠙⢾⡿⣽⣿⡟⣯⣷⡄⠀⠀⠀⠀⠀⠀⠀⠀⠀⠀⠀⠀⠀⠀⠀⠀⎥\n",
       "⎢⠀⠀⠀⠀⠀⠀⠀⠀⠀⠀⠀⠀⠀⠀⠀⠀⠀⠙⢿⣳⣿⣿⣳⣿⣦⡀⠀⠀⠀⠀⠀⠀⠀⠀⠀⠀⠀⠀⠀⠀⎥\n",
       "⎢⠀⠀⠀⠀⠀⠀⠀⠀⠀⠀⠀⠀⠀⠀⠀⠀⠀⠀⠀⠙⢯⣷⣿⢯⣷⣿⢦⡀⠀⠀⠀⠀⠀⠀⠀⠀⠀⠀⠀⠀⎥\n",
       "⎢⠀⠀⠀⠀⠀⠀⠀⠀⠀⠀⠀⠀⠀⠀⠀⠀⠀⠀⠀⠀⠀⠻⣬⣿⡟⣯⣿⣟⣦⡀⠀⠀⠀⠀⠀⠀⠀⠀⠀⠀⎥\n",
       "⎢⠀⠀⠀⠀⠀⠀⠀⠀⠀⠀⠀⠀⠀⠀⠀⠀⠀⠀⠀⠀⠀⠀⠈⠳⣿⢿⣻⣿⢿⣹⣄⠀⠀⠀⠀⠀⠀⠀⠀⠀⎥\n",
       "⎢⠀⠀⠀⠀⠀⠀⠀⠀⠀⠀⠀⠀⠀⠀⠀⠀⠀⠀⠀⠀⠀⠀⠀⠀⠈⠻⣿⢯⣿⣿⢯⣷⣄⠀⠀⠀⠀⠀⠀⠀⎥\n",
       "⎢⠀⠀⠀⠀⠀⠀⠀⠀⠀⠀⠀⠀⠀⠀⠀⠀⠀⠀⠀⠀⠀⠀⠀⠀⠀⠀⠈⢿⣛⣾⡿⣟⣾⣷⣄⠀⠀⠀⠀⠀⎥\n",
       "⎢⠀⠀⠀⠀⠀⠀⠀⠀⠀⠀⠀⠀⠀⠀⠀⠀⠀⠀⠀⠀⠀⠀⠀⠀⠀⠀⠀⠀⠙⢿⣷⣿⢿⣹⣾⠷⡄⠀⠀⠀⎥\n",
       "⎢⠀⠀⠀⠀⠀⠀⠀⠀⠀⠀⠀⠀⠀⠀⠀⠀⠀⠀⠀⠀⠀⠀⠀⠀⠀⠀⠀⠀⠀⠀⠙⢯⣿⣿⣯⣿⣿⣦⡀⠀⎥\n",
       "⎢⠀⠀⠀⠀⠀⠀⠀⠀⠀⠀⠀⠀⠀⠀⠀⠀⠀⠀⠀⠀⠀⠀⠀⠀⠀⠀⠀⠀⠀⠀⠀⠀⠙⢾⡿⣟⣾⡿⣟⡦⎥\n",
       "⎢⠀⠀⠀⠀⠀⠀⠀⠀⠀⠀⠀⠀⠀⠀⠀⠀⠀⠀⠀⠀⠀⠀⠀⠀⠀⠀⠀⠀⠀⠀⠀⠀⠀⠈⠳⣿⢿⣿⣿⠻⎥\n",
       "⎢⠀⠀⠀⠀⠀⠀⠀⠀⠀⠀⠀⠀⠀⠀⠀⠀⠀⠀⠀⠀⠀⠀⠀⠀⠀⠀⠀⠀⠀⠀⠀⠀⠀⠀⠀⠈⠻⣟⣿⣷⎥\n",
       "⎢⠀⠀⠀⠀⠀⠀⠀⠀⠀⠀⠀⠀⠀⠀⠀⠀⠀⠀⠀⠀⠀⠀⠀⠀⠀⠀⠀⠀⠀⠀⠀⠀⠀⠀⠀⠀⠀⠈⠻⣝⎥\n",
       "⎣⠀⠀⠀⠀⠀⠀⠀⠀⠀⠀⠀⠀⠀⠀⠀⠀⠀⠀⠀⠀⠀⠀⠀⠀⠀⠀⠀⠀⠀⠀⠀⠀⠀⠀⠀⠀⠀⠀⠀⠈⎦"
      ]
     },
     "execution_count": 11,
     "metadata": {},
     "output_type": "execute_result"
    }
   ],
   "source": [
    "𝔏 = (Dx + Dy + Dθ + Δ +Δθ)"
   ]
  },
  {
   "cell_type": "code",
   "execution_count": 12,
   "id": "36f4402a-239d-4cff-9e48-daf878205c21",
   "metadata": {},
   "outputs": [
    {
     "data": {
      "text/plain": [
       "[-0.613919, -0.610938]_com"
      ]
     },
     "execution_count": 12,
     "metadata": {},
     "output_type": "execute_result"
    }
   ],
   "source": [
    "ū = Vector(interval.(deserialize(\"baxendale_ubar\")));\n",
    "ϵ = 𝔏*ū-Q\n",
    "λ̄ = -ϵ[1]\n",
    "ϵ[1] = interval(0)\n",
    "δ = sum(abs.(ϵ))\n",
    "λ = λ̄ +interval(-1,1)*δ"
   ]
  },
  {
   "cell_type": "code",
   "execution_count": null,
   "id": "5ce3d1a8-0613-42ff-8e45-08b1584839f3",
   "metadata": {},
   "outputs": [],
   "source": []
  }
 ],
 "metadata": {
  "kernelspec": {
   "display_name": "Julia 1.11.1",
   "language": "julia",
   "name": "julia-1.11"
  },
  "language_info": {
   "file_extension": ".jl",
   "mimetype": "application/julia",
   "name": "julia",
   "version": "1.11.1"
  }
 },
 "nbformat": 4,
 "nbformat_minor": 5
}
