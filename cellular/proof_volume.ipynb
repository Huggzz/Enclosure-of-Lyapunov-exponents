{
 "cells": [
  {
   "cell_type": "code",
   "execution_count": 1,
   "id": "d40a9414-4bf0-4007-ace4-e159ef698b5f",
   "metadata": {},
   "outputs": [],
   "source": [
    "using BandedMatrices, LinearAlgebra, SparseArrays, IntervalArithmetic, Plots, LaTeXStrings, Serialization"
   ]
  },
  {
   "cell_type": "code",
   "execution_count": 2,
   "id": "de988a8e-d674-4a05-8c9c-1386d73bbf28",
   "metadata": {},
   "outputs": [],
   "source": [
    "Base.:*(A::SparseMatrixCSC{Interval{Float64}, Int64},x::Vector{Interval{Float64}})=Vector((A*sparse(x[:,:]))[:])"
   ]
  },
  {
   "cell_type": "code",
   "execution_count": 3,
   "id": "d1dbf4f4-d8a4-458d-a0c8-80c103d178f3",
   "metadata": {},
   "outputs": [
    {
     "data": {
      "text/plain": [
       "S2 (generic function with 1 method)"
      ]
     },
     "execution_count": 3,
     "metadata": {},
     "output_type": "execute_result"
    }
   ],
   "source": [
    "function D(N)\n",
    "    # implements ∂ₓ in Fourier\n",
    "    v = interval.([ ((n+1 ) % 2) * (n÷2) for n=1:2*N])\n",
    "    return dropzeros(sparse(BandedMatrix(-1 => v, 1 =>-v)))\n",
    "end\n",
    "\n",
    "function D2(N)\n",
    "    # implements ∂ₓₓ in Fourier\n",
    "    v = interval.([-(n÷2)^2 for n=1:2*N+1])\n",
    "    return dropzeros(sparse(BandedMatrix( 0 => vcat(v, zeros(Interval{Float64}, 4)))[:,1:2*N+1]))\n",
    "end\n",
    "\n",
    "function id(N)\n",
    "    v = ones(Interval{Float64}, 2*N+1)\n",
    "    return dropzeros(sparse(BandedMatrix( 0 => v)))\n",
    "end\n",
    "\n",
    "function id2(N)\n",
    "    v = ones(Interval{Float64}, 2*N+1)\n",
    "    return dropzeros(sparse(BandedMatrix( 0 => vcat(v, zeros(Interval{Float64}, 4)))[:,1:2*N+1]))\n",
    "end\n",
    "\n",
    "function idθ(N)\n",
    "    v = ones(Interval{Float64}, 2*N+1)\n",
    "    return dropzeros(sparse(BandedMatrix( 0 => vcat(v, zeros(Interval{Float64}, 2)))[:,1:2*N+1]))\n",
    "end\n",
    "\n",
    "function C(N)\n",
    "    # implements the u ↦ cosx u in Fourier\n",
    "    v = vcat([interval(0.0)], ones(Interval{Float64}, 2*N+2)/interval(2))\n",
    "    A = dropzeros(sparse(BandedMatrix( -2 => v, 2 => v[1:end-2])[:,1:2*N+1]))\n",
    "    A[1,3] = interval(0.5)\n",
    "    A[3,1] = interval(1.0)\n",
    "    return A\n",
    "end\n",
    "\n",
    "function S(N)\n",
    "    # implements the u ↦ sinx u in Fourier\n",
    "    v = vcat([interval(0.0)],interval.([ ((n+1 ) % 2) for n=1:2*N+2]))/interval(2)\n",
    "    A = dropzeros(sparse(BandedMatrix( -1 => v, -3 =>-v[2:end], 1 => v, 3=>-v[2:end])[:,1:2*N+1]))\n",
    "    A[1,2] = interval(0.5)\n",
    "    A[2,1] = interval(1.0)\n",
    "    return A\n",
    "end\n",
    "\n",
    "function C2(N)\n",
    "    # implements the u ↦ cos2x u in Fourier\n",
    "    v = vcat([interval(0.0)], ones(Interval{Float64}, 2*N)/interval(2))\n",
    "    A = dropzeros(sparse(BandedMatrix( -4 => v, 4 => v[2:end-1])[:,1:2*N+1]))\n",
    "    # A[1,3] = interval(0.5)\n",
    "    A[5,1] = interval(1.0)\n",
    "    A[3,3] = interval(0.5)\n",
    "    A[2,2] = -interval(0.5)\n",
    "    return A\n",
    "end\n",
    "\n",
    "\n",
    "function S2(N)\n",
    "    # implements the u ↦ sin2x u in Fourier\n",
    "    v = vcat([interval(0.0)],interval.([ ((n+1 ) % 2) for n=1:2*N]))/interval(2)\n",
    "    A = dropzeros(sparse(BandedMatrix( -3 => v, -5 =>-v[2:end], 3 => v, 5=>-v[2:end])[:,1:2*N+1]))\n",
    "    A[1,4] = interval(0.5)\n",
    "    A[4,1] = interval(1.0)\n",
    "    A[2,3] = interval(0.5)\n",
    "    A[3,2] = interval(0.5)\n",
    "    return A\n",
    "end"
   ]
  },
  {
   "cell_type": "code",
   "execution_count": 4,
   "id": "a1fd8a19-d5a7-4d22-93be-21041d5da054",
   "metadata": {},
   "outputs": [
    {
     "data": {
      "text/plain": [
       "50"
      ]
     },
     "execution_count": 4,
     "metadata": {},
     "output_type": "execute_result"
    }
   ],
   "source": [
    "N = 50"
   ]
  },
  {
   "cell_type": "code",
   "execution_count": 5,
   "id": "b5ff3bd2-085b-4636-b08b-eeb246db0ef9",
   "metadata": {},
   "outputs": [],
   "source": [
    "Dx = (kron(S2(N),id2(N))/interval(4)-kron(S(N),C(N)))*kron(D(N),id(N));"
   ]
  },
  {
   "cell_type": "code",
   "execution_count": 6,
   "id": "ddb5b2ec-0e71-44cb-bb71-3bc6102d634f",
   "metadata": {},
   "outputs": [],
   "source": [
    "Dy = (kron(id2(N),S2(N))/interval(4)+kron(C(N),S(N)))*kron(id(N),D(N));"
   ]
  },
  {
   "cell_type": "code",
   "execution_count": 7,
   "id": "cf59e5e9-6484-4572-8c75-fd17cf2bd5d8",
   "metadata": {},
   "outputs": [],
   "source": [
    "Δ = kron(D2(N),id2(N))+kron(id2(N),D2(N));"
   ]
  },
  {
   "cell_type": "code",
   "execution_count": 8,
   "id": "f5dab2e7-7e90-4275-8fc6-dcce3f5414fd",
   "metadata": {},
   "outputs": [],
   "source": [
    "Q = Vector((kron(C2(N), id2(N))+kron(id2(N), C2(N)))[:,1])/interval(4);"
   ]
  },
  {
   "cell_type": "code",
   "execution_count": 9,
   "id": "4ee9a839-3321-4a37-9501-ade0f1efffe1",
   "metadata": {},
   "outputs": [],
   "source": [
    "𝔏 = (Dx + Dy + Δ);"
   ]
  },
  {
   "cell_type": "code",
   "execution_count": 10,
   "id": "78e58e2b-e9b8-4ce8-a424-09236c67b6ac",
   "metadata": {},
   "outputs": [],
   "source": [
    "ū = interval.(mid.(𝔏[2:end,:])\\mid.(Q[2:end]));"
   ]
  },
  {
   "cell_type": "code",
   "execution_count": 11,
   "id": "f485e2c0-0746-4913-ae49-8444b35193bd",
   "metadata": {},
   "outputs": [
    {
     "data": {
      "text/plain": [
       "[-0.0308583, -0.0308582]_com"
      ]
     },
     "execution_count": 11,
     "metadata": {},
     "output_type": "execute_result"
    }
   ],
   "source": [
    "ϵ = 𝔏*ū - Q;\n",
    "λ̄_Σ = -ϵ[1]\n",
    "ϵ[1] = interval(0)\n",
    "δ = sum(abs.(ϵ))\n",
    "λ_Σ = λ̄_Σ +interval(-1,1)*δ"
   ]
  },
  {
   "cell_type": "code",
   "execution_count": null,
   "id": "fa2d9106-cc94-4fea-b602-d27d876cf27d",
   "metadata": {},
   "outputs": [],
   "source": [
    "serialize(\"lambda_Sigma\", λ_Σ)"
   ]
  },
  {
   "cell_type": "code",
   "execution_count": null,
   "id": "37a3133a-5814-478f-8c24-75ee9828ad60",
   "metadata": {},
   "outputs": [],
   "source": [
    "M = 200\n",
    "x = y = collect(0:M)/M*(2π)\n",
    "ū_vals = zeros((M+1,M+1))\n",
    "count = 1\n",
    "for i=0:2*N\n",
    "    for j=0:2*N\n",
    "        ū_vals += mid(ū[count])*((i%2==1)*sin.((i÷2+1)*x)+(i%2==0)*cos.((i÷2)*x)).*((j%2==1)*sin.((j÷2+1)*y)+(j%2==0)*cos.((j÷2)*y))'\n",
    "        count +=1\n",
    "    end\n",
    "end"
   ]
  },
  {
   "cell_type": "code",
   "execution_count": null,
   "id": "0b3c2904-f2c7-40cb-9e0f-39a161b148bd",
   "metadata": {},
   "outputs": [],
   "source": [
    "plot(x,y,ū_vals,st=:surface, xlabel = L\"$x$\", ylabel = L\"$y$\", zlabel = L\"$\\bar{u}$\", colorbar=false, dpi = 500)"
   ]
  },
  {
   "cell_type": "code",
   "execution_count": null,
   "id": "988427d8-2cf9-4318-9f73-c0a5854eed2a",
   "metadata": {},
   "outputs": [],
   "source": [
    "png(\"volume_ubar\")"
   ]
  }
 ],
 "metadata": {
  "kernelspec": {
   "display_name": "Julia 1.11.1",
   "language": "julia",
   "name": "julia-1.11"
  },
  "language_info": {
   "file_extension": ".jl",
   "mimetype": "application/julia",
   "name": "julia",
   "version": "1.11.1"
  }
 },
 "nbformat": 4,
 "nbformat_minor": 5
}
