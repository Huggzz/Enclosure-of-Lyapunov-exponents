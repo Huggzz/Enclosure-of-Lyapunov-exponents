{
 "cells": [
  {
   "cell_type": "code",
   "execution_count": null,
   "id": "37ec8af9-c281-45fb-a318-0a3fe88259a4",
   "metadata": {},
   "outputs": [],
   "source": [
    "using BandedMatrices, LinearAlgebra, SparseArrays, IntervalArithmetic, Serialization, LazyArrays"
   ]
  },
  {
   "cell_type": "code",
   "execution_count": null,
   "id": "4b3e1cbe-1993-453a-a6b1-6a2d5fcc5bde",
   "metadata": {},
   "outputs": [],
   "source": [
    "Base.:*(A::SparseMatrixCSC{Interval{Float64}, Int64},x::Vector{Interval{Float64}})=Vector((A*sparse(x[:,:]))[:])"
   ]
  },
  {
   "cell_type": "code",
   "execution_count": null,
   "id": "16a68f44-0771-458d-81bc-5882050ced0b",
   "metadata": {},
   "outputs": [],
   "source": [
    "γ = interval(0.25)\n",
    "κ = interval(Float64, 2//3)\n",
    "σ = interval(4)"
   ]
  },
  {
   "cell_type": "code",
   "execution_count": null,
   "id": "3f2e67d9-b707-4a9a-91bd-6a2ad6d9e120",
   "metadata": {},
   "outputs": [],
   "source": [
    "function D(N)\n",
    "    # implements ∂ₓ in Fourier\n",
    "    v = interval.([ ((n+1 ) % 2) * (n÷2) for n=1:2*N])\n",
    "    return dropzeros(sparse(BandedMatrix(-1 => v, 1 =>-v)))\n",
    "end\n",
    "\n",
    "function D2(N)\n",
    "    # implements ∂ₓₓ in Fourier\n",
    "    v = interval.([-(n÷2)^2 for n=1:2*N+1])\n",
    "    return dropzeros(sparse(BandedMatrix( 0 => vcat(v, zeros(Interval{Float64}, 2)))[:,1:2*N+1]))\n",
    "end\n",
    "\n",
    "function id(N)\n",
    "    v = ones(Interval{Float64}, 2*N+1)\n",
    "    return dropzeros(sparse(BandedMatrix( 0 => v)))\n",
    "end\n",
    "\n",
    "function id2(N)\n",
    "    v = ones(Interval{Float64}, 2*N+1)\n",
    "    return dropzeros(sparse(BandedMatrix( 0 => vcat(v, zeros(Interval{Float64}, 2)))[:,1:2*N+1]))\n",
    "end\n",
    "\n",
    "function idZ(N)\n",
    "    v = ones(Interval{Float64}, N+1)\n",
    "    return dropzeros(sparse(BandedMatrix( 0 => v)))\n",
    "end\n",
    "\n",
    "function idZ2(N)\n",
    "    v = ones(Interval{Float64}, N+2)\n",
    "    return dropzeros(sparse(BandedMatrix( 0 => v)))[:,1:N+1]\n",
    "end\n",
    "\n",
    "function C(N)\n",
    "    # implements u ↦ cosx u in Hermite\n",
    "    v = vcat([interval(0.0)], ones(Interval{Float64}, 2*N)/interval(2))\n",
    "    A = dropzeros(sparse(BandedMatrix( -2 => v, 2 => v[1:end-2])[:,1:2*N+1]))\n",
    "    A[1,3] = interval(0.5)\n",
    "    A[3,1] = interval(1.0)\n",
    "    return A\n",
    "end\n",
    "\n",
    "function S(N)\n",
    "    # implements u ↦ sinx u in Hermite\n",
    "    v = vcat([interval(0.0)],interval.([ ((n+1 ) % 2) for n=1:2*N]))/interval(2)\n",
    "    A = dropzeros(sparse(BandedMatrix( -1 => v[1:end], -3 =>-v[2:end], 1 => v, 3=>-v[2:end])[:,1:2*N+1]))\n",
    "    A[1,2] = interval(0.5)\n",
    "    A[2,1] = interval(1.0)\n",
    "    return A\n",
    "end\n",
    "\n",
    "function DZ(N)\n",
    "    # implements ∂ₓ in Hermite\n",
    "    v = sqrt(γ)*sqrt.(interval(2)*interval.(1:N+1))/σ\n",
    "    A = dropzeros(sparse(BandedMatrix(0=>zeros(Interval{Float64}, N+1), 1=>v))[:,1:N+1])\n",
    "    return A\n",
    "end\n",
    "\n",
    "function L(N)\n",
    "    # implements the generator of the OU process in Hermite\n",
    "    v = -γ*interval(0:N+1)\n",
    "    return dropzeros(sparse(Diagonal(v)[:,1:N+1]))\n",
    "end\n",
    "\n",
    "function Z(N)\n",
    "    # implements u ↦ xu in Hermite\n",
    "    v = σ*sqrt.(interval.(1:N+1)/interval(2))/sqrt(γ)\n",
    "    return A = dropzeros(sparse(BandedMatrix(0=>zeros(Interval{Float64}, N), -1=>v, 1=>v[1:N])))[:,1:N+1]\n",
    "end\n"
   ]
  },
  {
   "cell_type": "code",
   "execution_count": null,
   "id": "0a55f10b-c8fd-4fd3-8385-ad6d56e4bd44",
   "metadata": {},
   "outputs": [],
   "source": [
    "K = 500\n",
    "N = 200\n",
    "M = 525;\n",
    "cols = vec([n%2 == m%2 for m=0:M, n=0:2*N, k=0:2*K ])\n",
    "cols[1] = 0;"
   ]
  },
  {
   "cell_type": "code",
   "execution_count": null,
   "id": "63fb25b7-821c-4c1e-b7b6-1ebb1255a32d",
   "metadata": {},
   "outputs": [],
   "source": [
    "𝔏 = kron(id2(K), id2(N)*D(N), Z(M))[:,cols];\n",
    "GC.gc()"
   ]
  },
  {
   "cell_type": "code",
   "execution_count": null,
   "id": "ec079081-8a76-4241-b3d7-40e683fe83e9",
   "metadata": {},
   "outputs": [],
   "source": [
    "𝔏 += kron(id2(K), id2(N), L(M))[:,cols]\n",
    "GC.gc()\n",
    "𝔏 -= kron(id2(K), κ*S(N),DZ(M))[:,cols];\n",
    "GC.gc()"
   ]
  },
  {
   "cell_type": "code",
   "execution_count": null,
   "id": "04710363-27ad-4fec-b320-94ea09c45960",
   "metadata": {},
   "outputs": [],
   "source": [
    "𝔏 -= kron((id2(K) + γ*S(K) - C(K))*D(K), id2(N), idZ2(M))[:,cols]\n",
    "GC.gc()\n",
    "𝔏 -= kron(κ*(id2(K)+C(K))*D(K), C(N), idZ2(M))[:,cols];\n",
    "GC.gc()"
   ]
  },
  {
   "cell_type": "code",
   "execution_count": null,
   "id": "90fc48a0-22ee-4cc0-9ba0-a7646b86b809",
   "metadata": {},
   "outputs": [],
   "source": [
    "ū = interval.(deserialize(\"ubar\"));"
   ]
  },
  {
   "cell_type": "code",
   "execution_count": null,
   "id": "7afedef2-3983-44e5-a4e7-6bf01144ac46",
   "metadata": {},
   "outputs": [],
   "source": [
    "Q = Vector(Kron(γ*(C(K)-id2(K)) + S(K), id2(N), idZ2(M))[:,1] - κ*Kron(S(K), C(N), idZ2(M))[:,1])/interval(2)\n",
    "GC.gc()"
   ]
  },
  {
   "cell_type": "code",
   "execution_count": null,
   "id": "0f99bfda-0df4-43c5-9844-1e17188dca41",
   "metadata": {},
   "outputs": [],
   "source": [
    "ϵ = 𝔏*ū - Q\n",
    "λ̄ = -ϵ[1]\n",
    "ϵ[1] = interval(0);"
   ]
  },
  {
   "cell_type": "code",
   "execution_count": null,
   "id": "8fb877ca-d072-4997-ad4f-96c6a44c10dd",
   "metadata": {},
   "outputs": [],
   "source": [
    "suppsi = deserialize(\"pendulum_sups\")[1:M+2];"
   ]
  },
  {
   "cell_type": "code",
   "execution_count": null,
   "id": "9eb0f829-7c8e-4d12-85e5-9a4ef4d19b60",
   "metadata": {},
   "outputs": [],
   "source": [
    "μW = deserialize(\"pendulum_Lyapunov_bound\")"
   ]
  },
  {
   "cell_type": "code",
   "execution_count": null,
   "id": "30a5bbe5-d89a-4276-9836-e9d719549d76",
   "metadata": {},
   "outputs": [],
   "source": [
    "start = 1\n",
    "finish = M+2\n",
    "δ = interval(0)\n",
    "for i=1:(2*K+3)*(2*N+3)\n",
    "    δ += sum(abs.(ϵ[start:finish]).*suppsi)\n",
    "    start += M+2\n",
    "    finish += M+2\n",
    "end\n",
    "δ *= μW\n",
    "λ = λ̄ + interval(-1,1)*δ"
   ]
  },
  {
   "cell_type": "code",
   "execution_count": null,
   "id": "5302a0fa-99e2-436e-a2da-0766472b1414",
   "metadata": {},
   "outputs": [],
   "source": []
  }
 ],
 "metadata": {
  "kernelspec": {
   "display_name": "Julia 1.11.1",
   "language": "julia",
   "name": "julia-1.11"
  },
  "language_info": {
   "file_extension": ".jl",
   "mimetype": "application/julia",
   "name": "julia",
   "version": "1.11.1"
  }
 },
 "nbformat": 4,
 "nbformat_minor": 5
}
